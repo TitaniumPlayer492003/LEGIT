{
 "cells": [
  {
   "cell_type": "code",
   "execution_count": 3,
   "metadata": {},
   "outputs": [],
   "source": [
    "# converting pdf to text when pdf is saved on the system\n",
    "\n",
    "import PyPDF2\n",
    "import pandas as pd\n",
    "\n",
    "\n",
    "def extract_text_from_pdf(file_path):\n",
    "    with open(file_path, \"rb\") as file:\n",
    "        reader = PyPDF2.PdfReader(file)\n",
    "        text = \"\"\n",
    "        for page_num in range(len(reader.pages)):\n",
    "            page = reader.pages[page_num]\n",
    "            text += page.extract_text()\n",
    "        return text\n",
    "\n",
    "\n",
    "# Usage example\n",
    "# file_path = r\"C:\\Users\\KIIT\\Desktop\\hindi.pdf\"\n",
    "file_path = \"a5cc56258ac745ad0930d1d059dfe13d40c007b687ac9672adff68d6171f1df11738317422.pdf\"  # FIXME: fix this path\n",
    "pdf_text = extract_text_from_pdf(file_path)\n",
    "\n",
    "with open(\"hin_judgement.txt\", \"w\", encoding=\"utf-8\") as f:\n",
    "    f.write(pdf_text)\n",
    "\n",
    "# High_court = set()\n",
    "\n",
    "# for i in pdf_text:\n",
    "#   name = i\n",
    "#  High_court.add(name)\n",
    "# print(High_court)\n",
    "\n",
    "# df = pd.DataFrame({\"high court\": High_court})\n",
    "\n",
    "# df.to_csv(\"high_court_data.csv\")"
   ]
  }
 ],
 "metadata": {
  "kernelspec": {
   "display_name": "base",
   "language": "python",
   "name": "python3"
  },
  "language_info": {
   "codemirror_mode": {
    "name": "ipython",
    "version": 3
   },
   "file_extension": ".py",
   "mimetype": "text/x-python",
   "name": "python",
   "nbconvert_exporter": "python",
   "pygments_lexer": "ipython3",
   "version": "3.12.7"
  }
 },
 "nbformat": 4,
 "nbformat_minor": 2
}

{
 "cells": [
  {
   "cell_type": "code",
   "execution_count": null,
   "metadata": {},
   "outputs": [
    {
     "name": "stderr",
     "output_type": "stream",
     "text": [
      "INFO:multilingual_pdf2text.doc2img.parse_document:Parsing document from pdf to image\n",
      "INFO:multilingual_pdf2text.doc2img.parse_document:Unable to get page count.\n",
      "I/O Error: Couldn't open file 'C:\\Users\\KIIT\\Desktop\\hindi.pdf': No such file or directory.\n",
      "\n",
      "INFO:multilingual_pdf2text.ocr.image_to_text:Extracting text from images via OCR\n"
     ]
    },
    {
     "name": "stdout",
     "output_type": "stream",
     "text": [
      "[]\n"
     ]
    }
   ],
   "source": [
    "# iNTK\n",
    "from multilingual_pdf2text.pdf2text import PDF2Text\n",
    "from multilingual_pdf2text.models.document_model.document import Document\n",
    "import logging\n",
    "from PIL import Image\n",
    "import pytesseract\n",
    "import PyPDF2\n",
    "import os\n",
    "\n",
    "import numexpr as ne\n",
    "import warnings\n",
    "import logging\n",
    "\n",
    "os.environ[\"NUMEXPR_MAX_THREADS\"] = \"4\"\n",
    "# warnings.filterwarnings(\"ignore\", category=UserWarning, module=\"numexpr\")\n",
    "\n",
    "logging.basicConfig(level=logging.INFO)\n",
    "\n",
    "\n",
    "def main():\n",
    "    # create document for extraction with configurations\n",
    "    pdf_document = Document(\n",
    "        document_path=r\"C:\\Users\\KIIT\\Desktop\\hindi.pdf\",\n",
    "        language=\"hin\",  # FIXME : Fix this path\n",
    "    )\n",
    "    pdf2text = PDF2Text(document=pdf_document)\n",
    "    content = pdf2text.extract()\n",
    "    print(content)\n",
    "\n",
    "\n",
    "if __name__ == \"__main__\":\n",
    "    main()\n",
    "\n",
    "# link case name, name of judges, cnr, date of registration,, date of decision, disposal nature, court, url for pdf - high court, list of hc--> also needed for district courts, downloaded or not\n",
    "# judgements.ecourts.gov.in"
   ]
  }
 ],
 "metadata": {
  "kernelspec": {
   "display_name": "base",
   "language": "python",
   "name": "python3"
  },
  "language_info": {
   "codemirror_mode": {
    "name": "ipython",
    "version": 3
   },
   "file_extension": ".py",
   "mimetype": "text/x-python",
   "name": "python",
   "nbconvert_exporter": "python",
   "pygments_lexer": "ipython3",
   "version": "3.12.7"
  }
 },
 "nbformat": 4,
 "nbformat_minor": 2
}

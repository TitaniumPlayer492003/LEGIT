{
 "cells": [
  {
   "cell_type": "code",
   "execution_count": 12,
   "metadata": {},
   "outputs": [
    {
     "name": "stdout",
     "output_type": "stream",
     "text": [
      "❌ Error extracting data: Message: no such element: Unable to locate element: {\"method\":\"css selector\",\"selector\":\".docdate\"}\n",
      "  (Session info: chrome=132.0.6834.159); For documentation on this error, please visit: https://www.selenium.dev/documentation/webdriver/troubleshooting/errors#no-such-element-exception\n",
      "Stacktrace:\n",
      "#0 0x5f6896f1d53a <unknown>\n",
      "#1 0x5f6896a18f00 <unknown>\n",
      "#2 0x5f6896a68c0c <unknown>\n",
      "#3 0x5f6896a68e31 <unknown>\n",
      "#4 0x5f6896aaebd4 <unknown>\n",
      "#5 0x5f6896a8d5cd <unknown>\n",
      "#6 0x5f6896aabf84 <unknown>\n",
      "#7 0x5f6896a8d343 <unknown>\n",
      "#8 0x5f6896a5a78a <unknown>\n",
      "#9 0x5f6896a5b9de <unknown>\n",
      "#10 0x5f6896ee72cb <unknown>\n",
      "#11 0x5f6896eeb242 <unknown>\n",
      "#12 0x5f6896ed47ac <unknown>\n",
      "#13 0x5f6896eebdf7 <unknown>\n",
      "#14 0x5f6896eb8b2f <unknown>\n",
      "#15 0x5f6896f0c1a8 <unknown>\n",
      "#16 0x5f6896f0c370 <unknown>\n",
      "#17 0x5f6896f1c3b6 <unknown>\n",
      "#18 0x74fca8a9ca94 <unknown>\n",
      "#19 0x74fca8b29c3c <unknown>\n",
      "\n"
     ]
    }
   ],
   "source": [
    "import time\n",
    "import os\n",
    "from selenium import webdriver\n",
    "from selenium.webdriver.common.by import By\n",
    "\n",
    "# Input case URL manually\n",
    "case_url = \"https://indiankanoon.org/doc/173448784/\"  # Change this for each case\n",
    "\n",
    "# Extract case ID from URL (last n characters before \"/\")\n",
    "case_id = case_url.rstrip(\"/\").split(\"/\")[-1]  # \"173448784\"\n",
    "filename = f\"{case_id}.txt\"\n",
    "\n",
    "# Set up WebDriver\n",
    "driver = webdriver.Chrome()\n",
    "driver.get(case_url)\n",
    "\n",
    "# Wait for page to load\n",
    "time.sleep(3)\n",
    "\n",
    "# Extract case details (Modify selectors based on actual website)\n",
    "try:\n",
    "    title = driver.find_element(By.TAG_NAME, \"h1\").text  # Case title\n",
    "    date = driver.find_element(By.CLASS_NAME, \"docdate\").text  # Case date\n",
    "    case_number = driver.find_element(By.CLASS_NAME, \"casenumber\").text  # Case number\n",
    "    content = driver.find_element(By.CLASS_NAME, \"judgments\").text  # Full case text\n",
    "\n",
    "    # Save to a text file\n",
    "    with open(filename, \"w\", encoding=\"utf-8\") as file:\n",
    "        file.write(f\"Title: {title}\\n\")\n",
    "        file.write(f\"Date: {date}\\n\")\n",
    "        file.write(f\"Case Number: {case_number}\\n\")\n",
    "        file.write(\"\\n--- Case Content ---\\n\")\n",
    "        file.write(content)\n",
    "\n",
    "    print(f\"✅ Data saved to {filename}\")\n",
    "\n",
    "except Exception as e:\n",
    "    print(f\"❌ Error extracting data: {e}\")\n",
    "\n",
    "# Close the browser\n",
    "driver.quit()"
   ]
  }
 ],
 "metadata": {
  "kernelspec": {
   "display_name": "base",
   "language": "python",
   "name": "python3"
  },
  "language_info": {
   "codemirror_mode": {
    "name": "ipython",
    "version": 3
   },
   "file_extension": ".py",
   "mimetype": "text/x-python",
   "name": "python",
   "nbconvert_exporter": "python",
   "pygments_lexer": "ipython3",
   "version": "3.12.2"
  }
 },
 "nbformat": 4,
 "nbformat_minor": 2
}

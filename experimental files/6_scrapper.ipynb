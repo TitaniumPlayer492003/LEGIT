{
 "cells": [
  {
   "cell_type": "code",
   "execution_count": 8,
   "metadata": {},
   "outputs": [
    {
     "name": "stdout",
     "output_type": "stream",
     "text": [
      "Created 'pdfs' directory to save PDFs.\n",
      "Found 0 PDF links:\n",
      "No PDF links found on the page.\n"
     ]
    }
   ],
   "source": [
    "import requests\n",
    "from bs4 import BeautifulSoup\n",
    "from urllib.parse import urljoin\n",
    "import os\n",
    "\n",
    "# URL of the webpage to scrape\n",
    "url = \"https://indiankanoon.org/doc/173448784\"\n",
    "\n",
    "# Send GET request to fetch the webpage content\n",
    "response = requests.get(url)\n",
    "soup = BeautifulSoup(response.content, \"html.parser\")\n",
    "\n",
    "# Create the 'pdfs' directory if it doesn't exist\n",
    "if not os.path.exists(\"pdfs\"):\n",
    "    os.makedirs(\"pdfs\")\n",
    "    print(\"Created 'pdfs' directory to save PDFs.\")\n",
    "\n",
    "# List to hold PDF links\n",
    "pdf_links = []\n",
    "\n",
    "# Extract all links from the page\n",
    "for link in soup.find_all(\"a\", href=True):\n",
    "    if \"pdf\" in link[\"href\"]:  # Look for 'pdf' in the href attribute\n",
    "        pdf_links.append(link[\"href\"])\n",
    "\n",
    "# Debugging: Print the number of PDFs found\n",
    "print(f\"Found {len(pdf_links)} PDF links:\")\n",
    "for pdf in pdf_links:\n",
    "    print(pdf)\n",
    "\n",
    "# If PDF links are found, start downloading\n",
    "if pdf_links:\n",
    "    for link in pdf_links:\n",
    "        full_url = urljoin(url, link)  # Combine base URL with the relative link\n",
    "        try:\n",
    "            pdf_response = requests.get(full_url)\n",
    "            pdf_response.raise_for_status()  # Raise an exception for HTTP errors\n",
    "\n",
    "            # Save the PDF in the 'pdfs' directory\n",
    "            pdf_filename = (\n",
    "                f\"pdfs/{link.split('/')[-1]}\"  # Get the filename from the link\n",
    "            )\n",
    "            with open(pdf_filename, \"wb\") as pdf_file:\n",
    "                pdf_file.write(pdf_response.content)\n",
    "                print(f\"Saved: {pdf_filename}\")  # Confirmation message\n",
    "        except requests.exceptions.RequestException as e:\n",
    "            print(f\"Failed to download {full_url}: {e}\")\n",
    "else:\n",
    "    print(\"No PDF links found on the page.\")"
   ]
  }
 ],
 "metadata": {
  "kernelspec": {
   "display_name": "base",
   "language": "python",
   "name": "python3"
  },
  "language_info": {
   "codemirror_mode": {
    "name": "ipython",
    "version": 3
   },
   "file_extension": ".py",
   "mimetype": "text/x-python",
   "name": "python",
   "nbconvert_exporter": "python",
   "pygments_lexer": "ipython3",
   "version": "3.12.2"
  }
 },
 "nbformat": 4,
 "nbformat_minor": 2
}

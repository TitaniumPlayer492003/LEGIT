{
 "cells": [
  {
   "cell_type": "code",
   "execution_count": 5,
   "metadata": {},
   "outputs": [
    {
     "name": "stdout",
     "output_type": "stream",
     "text": [
      "Failed to retrieve the page.\n"
     ]
    }
   ],
   "source": [
    "import requests\n",
    "from bs4 import BeautifulSoup\n",
    "import json\n",
    "\n",
    "\n",
    "def scrape_case(url, output_filename):\n",
    "    response = requests.get(url, headers={\"User-Agent\": \"Mozilla/5.0\"})\n",
    "    if response.status_code != 200:\n",
    "        print(\"Failed to retrieve the page.\")\n",
    "        return\n",
    "\n",
    "    soup = BeautifulSoup(response.text, \"html.parser\")\n",
    "    case_text = soup.find(\"div\", class_=\"judgments\")  # Main judgment content\n",
    "\n",
    "    if not case_text:\n",
    "        print(\"Could not find case text.\")\n",
    "        return\n",
    "\n",
    "    text = case_text.get_text(\"\\n\", strip=True)\n",
    "\n",
    "    sections = {\n",
    "        \"Facts\": \"\",\n",
    "        \"Issues\": \"\",\n",
    "        \"Petitioner's Arguments\": \"\",\n",
    "        \"Analysis of the law\": \"\",\n",
    "        \"Precedent Analysis\": \"\",\n",
    "        \"Court's Reasoning\": \"\",\n",
    "        \"Conclusion\": \"\",\n",
    "    }\n",
    "\n",
    "    # Simple heuristic-based extraction (modify as needed)\n",
    "    if \"FACTS\" in text:\n",
    "        sections[\"Facts\"] = extract_section(text, \"FACTS\", \"ISSUES\")\n",
    "    if \"ISSUES\" in text:\n",
    "        sections[\"Issues\"] = extract_section(text, \"ISSUES\", \"Petitioner's Arguments\")\n",
    "    if \"Petitioner's Arguments\" in text:\n",
    "        sections[\"Petitioner's Arguments\"] = extract_section(\n",
    "            text, \"Petitioner's Arguments\", \"Analysis of the law\"\n",
    "        )\n",
    "    if \"Analysis of the law\" in text:\n",
    "        sections[\"Analysis of the law\"] = extract_section(\n",
    "            text, \"Analysis of the law\", \"Precedent Analysis\"\n",
    "        )\n",
    "    if \"Precedent Analysis\" in text:\n",
    "        sections[\"Precedent Analysis\"] = extract_section(\n",
    "            text, \"Precedent Analysis\", \"Court's Reasoning\"\n",
    "        )\n",
    "    if \"Court's Reasoning\" in text:\n",
    "        sections[\"Court's Reasoning\"] = extract_section(\n",
    "            text, \"Court's Reasoning\", \"Conclusion\"\n",
    "        )\n",
    "    if \"Conclusion\" in text:\n",
    "        sections[\"Conclusion\"] = extract_section(text, \"Conclusion\", None)\n",
    "\n",
    "    # Save output as JSON in a .txt file\n",
    "    with open(output_filename, \"w\", encoding=\"utf-8\") as file:\n",
    "        json.dump(sections, file, indent=4, ensure_ascii=False)\n",
    "\n",
    "    print(f\"Case data saved to {output_filename}\")\n",
    "\n",
    "\n",
    "def extract_section(text, start, end):\n",
    "    start_index = text.find(start)\n",
    "    end_index = text.find(end) if end else len(text)\n",
    "    if start_index == -1 or start_index >= end_index:\n",
    "        return \"\"\n",
    "    return text[start_index + len(start) : end_index].strip()\n",
    "\n",
    "\n",
    "# Example usage\n",
    "case_url = \"https://indiankanoon.org/doc/173448784/\"  # Replace with actual case URL\n",
    "scrape_case(case_url, \"case_data.txt\")"
   ]
  }
 ],
 "metadata": {
  "kernelspec": {
   "display_name": "base",
   "language": "python",
   "name": "python3"
  },
  "language_info": {
   "codemirror_mode": {
    "name": "ipython",
    "version": 3
   },
   "file_extension": ".py",
   "mimetype": "text/x-python",
   "name": "python",
   "nbconvert_exporter": "python",
   "pygments_lexer": "ipython3",
   "version": "3.12.2"
  }
 },
 "nbformat": 4,
 "nbformat_minor": 2
}

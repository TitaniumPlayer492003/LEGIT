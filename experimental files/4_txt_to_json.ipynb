{
 "cells": [
  {
   "cell_type": "code",
   "execution_count": 1,
   "metadata": {},
   "outputs": [
    {
     "name": "stderr",
     "output_type": "stream",
     "text": [
      "/home/titaniumplayer492003/miniconda3/lib/python3.12/site-packages/tqdm/auto.py:21: TqdmWarning: IProgress not found. Please update jupyter and ipywidgets. See https://ipywidgets.readthedocs.io/en/stable/user_install.html\n",
      "  from .autonotebook import tqdm as notebook_tqdm\n"
     ]
    },
    {
     "ename": "FileNotFoundError",
     "evalue": "[Errno 2] No such file or directory: 'hin_judgement.txt'",
     "output_type": "error",
     "traceback": [
      "\u001b[0;31m---------------------------------------------------------------------------\u001b[0m",
      "\u001b[0;31mFileNotFoundError\u001b[0m                         Traceback (most recent call last)",
      "Cell \u001b[0;32mIn[1], line 7\u001b[0m\n\u001b[1;32m      5\u001b[0m \u001b[38;5;66;03m# Load the judgment text file\u001b[39;00m\n\u001b[1;32m      6\u001b[0m file_path \u001b[38;5;241m=\u001b[39m \u001b[38;5;124m\"\u001b[39m\u001b[38;5;124mhin_judgement.txt\u001b[39m\u001b[38;5;124m\"\u001b[39m\n\u001b[0;32m----> 7\u001b[0m \u001b[38;5;28;01mwith\u001b[39;00m \u001b[38;5;28;43mopen\u001b[39;49m\u001b[43m(\u001b[49m\u001b[43mfile_path\u001b[49m\u001b[43m,\u001b[49m\u001b[43m \u001b[49m\u001b[38;5;124;43m\"\u001b[39;49m\u001b[38;5;124;43mr\u001b[39;49m\u001b[38;5;124;43m\"\u001b[39;49m\u001b[43m,\u001b[49m\u001b[43m \u001b[49m\u001b[43mencoding\u001b[49m\u001b[38;5;241;43m=\u001b[39;49m\u001b[38;5;124;43m\"\u001b[39;49m\u001b[38;5;124;43mutf-8\u001b[39;49m\u001b[38;5;124;43m\"\u001b[39;49m\u001b[43m)\u001b[49m \u001b[38;5;28;01mas\u001b[39;00m f:\n\u001b[1;32m      8\u001b[0m     text \u001b[38;5;241m=\u001b[39m f\u001b[38;5;241m.\u001b[39mread()\n\u001b[1;32m     10\u001b[0m \u001b[38;5;66;03m# Extract case details\u001b[39;00m\n",
      "File \u001b[0;32m~/miniconda3/lib/python3.12/site-packages/IPython/core/interactiveshell.py:324\u001b[0m, in \u001b[0;36m_modified_open\u001b[0;34m(file, *args, **kwargs)\u001b[0m\n\u001b[1;32m    317\u001b[0m \u001b[38;5;28;01mif\u001b[39;00m file \u001b[38;5;129;01min\u001b[39;00m {\u001b[38;5;241m0\u001b[39m, \u001b[38;5;241m1\u001b[39m, \u001b[38;5;241m2\u001b[39m}:\n\u001b[1;32m    318\u001b[0m     \u001b[38;5;28;01mraise\u001b[39;00m \u001b[38;5;167;01mValueError\u001b[39;00m(\n\u001b[1;32m    319\u001b[0m         \u001b[38;5;124mf\u001b[39m\u001b[38;5;124m\"\u001b[39m\u001b[38;5;124mIPython won\u001b[39m\u001b[38;5;124m'\u001b[39m\u001b[38;5;124mt let you open fd=\u001b[39m\u001b[38;5;132;01m{\u001b[39;00mfile\u001b[38;5;132;01m}\u001b[39;00m\u001b[38;5;124m by default \u001b[39m\u001b[38;5;124m\"\u001b[39m\n\u001b[1;32m    320\u001b[0m         \u001b[38;5;124m\"\u001b[39m\u001b[38;5;124mas it is likely to crash IPython. If you know what you are doing, \u001b[39m\u001b[38;5;124m\"\u001b[39m\n\u001b[1;32m    321\u001b[0m         \u001b[38;5;124m\"\u001b[39m\u001b[38;5;124myou can use builtins\u001b[39m\u001b[38;5;124m'\u001b[39m\u001b[38;5;124m open.\u001b[39m\u001b[38;5;124m\"\u001b[39m\n\u001b[1;32m    322\u001b[0m     )\n\u001b[0;32m--> 324\u001b[0m \u001b[38;5;28;01mreturn\u001b[39;00m \u001b[43mio_open\u001b[49m\u001b[43m(\u001b[49m\u001b[43mfile\u001b[49m\u001b[43m,\u001b[49m\u001b[43m \u001b[49m\u001b[38;5;241;43m*\u001b[39;49m\u001b[43margs\u001b[49m\u001b[43m,\u001b[49m\u001b[43m \u001b[49m\u001b[38;5;241;43m*\u001b[39;49m\u001b[38;5;241;43m*\u001b[39;49m\u001b[43mkwargs\u001b[49m\u001b[43m)\u001b[49m\n",
      "\u001b[0;31mFileNotFoundError\u001b[0m: [Errno 2] No such file or directory: 'hin_judgement.txt'"
     ]
    }
   ],
   "source": [
    "import json\n",
    "import re\n",
    "from transformers import pipeline\n",
    "\n",
    "# Load the judgment text file\n",
    "file_path = \"hin_judgement.txt\"\n",
    "with open(file_path, \"r\", encoding=\"utf-8\") as f:\n",
    "    text = f.read()\n",
    "\n",
    "# Extract case details\n",
    "case_details = {}\n",
    "case_name_match = re.search(r\"(.*?)\\s+v\\.\\s+(.*?)\\n\", text)\n",
    "if case_name_match:\n",
    "    case_details[\"case_name\"] = case_name_match.groups()\n",
    "case_number_match = re.search(r\"\\((.*?)\\)\", text)\n",
    "if case_number_match:\n",
    "    case_details[\"case_number\"] = case_number_match.group(1)\n",
    "date_match = re.search(r\"(\\d{2} \\w+ \\d{4})\", text)\n",
    "if date_match:\n",
    "    case_details[\"date\"] = date_match.group(1)\n",
    "\n",
    "# Extract legal issues\n",
    "issues_section = re.search(r\"Issue for Consideration(.*?)Headnotes\", text, re.DOTALL)\n",
    "legal_issues = []\n",
    "if issues_section:\n",
    "    legal_issues = [\n",
    "        issue.strip() for issue in issues_section.group(1).split(\"–\") if issue\n",
    "    ]\n",
    "\n",
    "# Extract key findings\n",
    "findings = re.findall(r\"Held: (.*?)(?:–|\\n\\n)\", text, re.DOTALL)\n",
    "\n",
    "# Extract cited laws and case references\n",
    "laws = re.findall(r\"Constitution of India – ([^:]*):\", text)\n",
    "cases_section = re.search(\n",
    "    r\"Case Law Cited(.*?)(?=Books and Periodicals Cited|$)\", text, re.DOTALL\n",
    ")\n",
    "cited_cases = (\n",
    "    re.findall(r\"([A-Za-z .]+ v\\. [A-Za-z .]+)\", cases_section.group(1))\n",
    "    if cases_section\n",
    "    else []\n",
    ")\n",
    "\n",
    "# Extract judgment text\n",
    "summary_match = re.search(r\"Judgment(.*?)Table of Contents\", text, re.DOTALL)\n",
    "summary = summary_match.group(1).strip() if summary_match else \"Not found\"\n",
    "\n",
    "# Summarization using Hugging Face with chunking\n",
    "# summarizer = pipeline(\"summarization\", model=\"facebook/bart-large-cnn\")\n",
    "summarizer = pipeline(\"summarization\", model=\"sshleifer/distilbart-cnn-12-6\")\n",
    "\n",
    "\n",
    "def chunk_text(text, max_tokens=500):\n",
    "    words = text.split()\n",
    "    return [\n",
    "        \" \".join(words[i : i + max_tokens]) for i in range(0, len(words), max_tokens)\n",
    "    ]\n",
    "\n",
    "\n",
    "if len(summary) > 100:\n",
    "    chunks = chunk_text(summary, max_tokens=500)\n",
    "    summarized_chunks = [\n",
    "        summarizer(chunk, max_length=150, min_length=50, do_sample=False)[0][\n",
    "            \"summary_text\"\n",
    "        ]\n",
    "        for chunk in chunks\n",
    "    ]\n",
    "    summary = \" \".join(summarized_chunks)\n",
    "\n",
    "# Organizing extracted data\n",
    "extracted_data = {\n",
    "    \"case_details\": case_details,\n",
    "    \"legal_issues\": legal_issues,\n",
    "    \"key_findings\": findings,\n",
    "    \"referenced_laws\": laws,\n",
    "    \"cited_cases\": cited_cases,\n",
    "    \"judgment_summary\": summary,\n",
    "}\n",
    "\n",
    "# Save as JSON\n",
    "output_file = \"extracted_judgment.json\"\n",
    "with open(output_file, \"w\", encoding=\"utf-8\") as json_file:\n",
    "    json.dump(extracted_data, json_file, indent=4, ensure_ascii=False)\n",
    "\n",
    "print(f\"Extracted data saved to {output_file}\")"
   ]
  }
 ],
 "metadata": {
  "kernelspec": {
   "display_name": "base",
   "language": "python",
   "name": "python3"
  },
  "language_info": {
   "codemirror_mode": {
    "name": "ipython",
    "version": 3
   },
   "file_extension": ".py",
   "mimetype": "text/x-python",
   "name": "python",
   "nbconvert_exporter": "python",
   "pygments_lexer": "ipython3",
   "version": "3.12.2"
  }
 },
 "nbformat": 4,
 "nbformat_minor": 2
}

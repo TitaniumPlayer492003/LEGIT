{
 "cells": [
  {
   "cell_type": "code",
   "execution_count": null,
   "metadata": {},
   "outputs": [
    {
     "name": "stdout",
     "output_type": "stream",
     "text": [
      "Could not find case text.\n"
     ]
    }
   ],
   "source": [
    "from selenium import webdriver\n",
    "from selenium.webdriver.chrome.service import Service\n",
    "from webdriver_manager.chrome import ChromeDriverManager\n",
    "from selenium.webdriver.chrome.options import Options\n",
    "from bs4 import BeautifulSoup\n",
    "import json\n",
    "import time\n",
    "\n",
    "\n",
    "def scrape_case(url, output_filename):\n",
    "    # Set up headless Chrome browser\n",
    "    options = Options()\n",
    "    options.add_argument(\"--headless\")  # Run in headless mode\n",
    "    options.add_argument(\"--disable-blink-features=AutomationControlled\")\n",
    "\n",
    "    service = Service(ChromeDriverManager().install())\n",
    "    driver = webdriver.Chrome(service=service, options=options)\n",
    "\n",
    "    try:\n",
    "        driver.get(url)\n",
    "        time.sleep(3)  # Wait for JavaScript to load\n",
    "\n",
    "        soup = BeautifulSoup(driver.page_source, \"html.parser\")\n",
    "        case_text = soup.find(\"div\", class_=\"judgments\")\n",
    "\n",
    "        if not case_text:\n",
    "            print(\"Could not find case text.\")\n",
    "            return\n",
    "\n",
    "        text = case_text.get_text(\"\\n\", strip=True)\n",
    "\n",
    "        sections = {\n",
    "            \"Facts\": extract_section(text, \"FACTS\", \"ISSUES\"),\n",
    "            \"Issues\": extract_section(text, \"ISSUES\", \"Petitioner's Arguments\"),\n",
    "            \"Petitioner's Arguments\": extract_section(\n",
    "                text, \"Petitioner's Arguments\", \"Analysis of the law\"\n",
    "            ),\n",
    "            \"Analysis of the law\": extract_section(\n",
    "                text, \"Analysis of the law\", \"Precedent Analysis\"\n",
    "            ),\n",
    "            \"Precedent Analysis\": extract_section(\n",
    "                text, \"Precedent Analysis\", \"Court's Reasoning\"\n",
    "            ),\n",
    "            \"Court's Reasoning\": extract_section(\n",
    "                text, \"Court's Reasoning\", \"Conclusion\"\n",
    "            ),\n",
    "            \"Conclusion\": extract_section(text, \"Conclusion\", None),\n",
    "        }\n",
    "\n",
    "        with open(output_filename, \"w\", encoding=\"utf-8\") as file:\n",
    "            json.dump(sections, file, indent=4, ensure_ascii=False)\n",
    "\n",
    "        print(f\"Case data saved to {output_filename}\")\n",
    "\n",
    "    finally:\n",
    "        driver.quit()\n",
    "\n",
    "\n",
    "def extract_section(text, start, end):\n",
    "    start_index = text.find(start)\n",
    "    end_index = text.find(end) if end and text.find(end) > start_index else len(text)\n",
    "    if start_index == -1 or start_index >= end_index:\n",
    "        return \"\"\n",
    "    return text[start_index + len(start) : end_index].strip()\n",
    "\n",
    "\n",
    "# Example usage\n",
    "case_url = \"https://indiankanoon.org/doc/173448784/\"  # Replace with a real case URL\n",
    "scrape_case(case_url, \"case_data.txt\")"
   ]
  }
 ],
 "metadata": {
  "kernelspec": {
   "display_name": "base",
   "language": "python",
   "name": "python3"
  },
  "language_info": {
   "codemirror_mode": {
    "name": "ipython",
    "version": 3
   },
   "file_extension": ".py",
   "mimetype": "text/x-python",
   "name": "python",
   "nbconvert_exporter": "python",
   "pygments_lexer": "ipython3",
   "version": "3.12.2"
  }
 },
 "nbformat": 4,
 "nbformat_minor": 2
}

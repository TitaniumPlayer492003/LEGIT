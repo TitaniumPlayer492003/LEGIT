{
 "cells": [
  {
   "cell_type": "code",
   "execution_count": null,
   "metadata": {},
   "outputs": [
    {
     "name": "stdout",
     "output_type": "stream",
     "text": [
      "❌ Error extracting data: Message: no such element: Unable to locate element: {\"method\":\"tag name\",\"selector\":\"h1\"}\n",
      "  (Session info: chrome=132.0.6834.159); For documentation on this error, please visit: https://www.selenium.dev/documentation/webdriver/troubleshooting/errors#no-such-element-exception\n",
      "Stacktrace:\n",
      "#0 0x6312254a953a <unknown>\n",
      "#1 0x631224fa4f00 <unknown>\n",
      "#2 0x631224ff4c0c <unknown>\n",
      "#3 0x631224ff4e31 <unknown>\n",
      "#4 0x63122503abd4 <unknown>\n",
      "#5 0x6312250195cd <unknown>\n",
      "#6 0x631225037f84 <unknown>\n",
      "#7 0x631225019343 <unknown>\n",
      "#8 0x631224fe678a <unknown>\n",
      "#9 0x631224fe79de <unknown>\n",
      "#10 0x6312254732cb <unknown>\n",
      "#11 0x631225477242 <unknown>\n",
      "#12 0x6312254607ac <unknown>\n",
      "#13 0x631225477df7 <unknown>\n",
      "#14 0x631225444b2f <unknown>\n",
      "#15 0x6312254981a8 <unknown>\n",
      "#16 0x631225498370 <unknown>\n",
      "#17 0x6312254a83b6 <unknown>\n",
      "#18 0x7b7adda9ca94 <unknown>\n",
      "#19 0x7b7addb29c3c <unknown>\n",
      "\n"
     ]
    },
    {
     "ename": "KeyboardInterrupt",
     "evalue": "",
     "output_type": "error",
     "traceback": [
      "\u001b[0;31m---------------------------------------------------------------------------\u001b[0m",
      "\u001b[0;31mKeyboardInterrupt\u001b[0m                         Traceback (most recent call last)",
      "Cell \u001b[0;32mIn[9], line 35\u001b[0m\n\u001b[1;32m     32\u001b[0m \u001b[38;5;28;01mexcept\u001b[39;00m \u001b[38;5;167;01mException\u001b[39;00m \u001b[38;5;28;01mas\u001b[39;00m e:\n\u001b[1;32m     33\u001b[0m     \u001b[38;5;28mprint\u001b[39m(\u001b[38;5;124mf\u001b[39m\u001b[38;5;124m\"\u001b[39m\u001b[38;5;124m❌ Error extracting data: \u001b[39m\u001b[38;5;132;01m{\u001b[39;00me\u001b[38;5;132;01m}\u001b[39;00m\u001b[38;5;124m\"\u001b[39m)\n\u001b[0;32m---> 35\u001b[0m \u001b[43mtime\u001b[49m\u001b[38;5;241;43m.\u001b[39;49m\u001b[43msleep\u001b[49m\u001b[43m(\u001b[49m\u001b[38;5;241;43m20\u001b[39;49m\u001b[43m)\u001b[49m\n\u001b[1;32m     36\u001b[0m \u001b[38;5;66;03m# driver.quit()\u001b[39;00m\n",
      "\u001b[0;31mKeyboardInterrupt\u001b[0m: "
     ]
    }
   ],
   "source": [
    "import undetected_chromedriver as uc\n",
    "from selenium.webdriver.common.by import By\n",
    "import time\n",
    "\n",
    "# case_url = \"https://indiankanoon.org/doc/173448784/\"\n",
    "case_url = \"https://www.advocatekhoj.com/library/judgments/announcement.php?WID=15738\"\n",
    "case_id = case_url.rstrip(\"/\").split(\"/\")[-1]\n",
    "filename = f\"{case_id}.txt\"\n",
    "\n",
    "# Use undetected ChromeDriver to bypass Cloudflare\n",
    "options = uc.ChromeOptions()\n",
    "options.headless = False  # Set True if you don't want the browser to open\n",
    "driver = uc.Chrome(options=options)\n",
    "\n",
    "driver.get(case_url)\n",
    "\n",
    "try:\n",
    "    title = driver.find_element(By.TAG_NAME, \"h1\").text.strip()\n",
    "    date = driver.find_element(By.CLASS_NAME, \"docdate\").text.strip()\n",
    "    case_number = driver.find_element(By.CLASS_NAME, \"casenumber\").text.strip()\n",
    "    content = driver.find_element(By.CLASS_NAME, \"judgments\").text.strip()\n",
    "\n",
    "    with open(filename, \"w\", encoding=\"utf-8\") as file:\n",
    "        file.write(f\"Title: {title}\\n\")\n",
    "        file.write(f\"Date: {date}\\n\")\n",
    "        file.write(f\"Case Number: {case_number}\\n\")\n",
    "        file.write(\"\\n--- Case Content ---\\n\")\n",
    "        file.write(content)\n",
    "\n",
    "    print(f\"✅ Data saved to {filename}\")\n",
    "\n",
    "except Exception as e:\n",
    "    print(f\"❌ Error extracting data: {e}\")\n",
    "\n",
    "time.sleep(20)\n",
    "driver.quit()"
   ]
  }
 ],
 "metadata": {
  "kernelspec": {
   "display_name": "base",
   "language": "python",
   "name": "python3"
  },
  "language_info": {
   "codemirror_mode": {
    "name": "ipython",
    "version": 3
   },
   "file_extension": ".py",
   "mimetype": "text/x-python",
   "name": "python",
   "nbconvert_exporter": "python",
   "pygments_lexer": "ipython3",
   "version": "3.12.2"
  }
 },
 "nbformat": 4,
 "nbformat_minor": 2
}

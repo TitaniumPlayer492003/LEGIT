{
 "cells": [
  {
   "cell_type": "code",
   "execution_count": 12,
   "metadata": {},
   "outputs": [
    {
     "ename": "KeyboardInterrupt",
     "evalue": "",
     "output_type": "error",
     "traceback": [
      "\u001b[0;31m---------------------------------------------------------------------------\u001b[0m",
      "\u001b[0;31mKeyboardInterrupt\u001b[0m                         Traceback (most recent call last)",
      "Cell \u001b[0;32mIn[12], line 7\u001b[0m\n\u001b[1;32m      4\u001b[0m browser \u001b[38;5;241m=\u001b[39m webdriver\u001b[38;5;241m.\u001b[39mChrome()\n\u001b[1;32m      5\u001b[0m browser\u001b[38;5;241m.\u001b[39mget(\u001b[38;5;124m\"\u001b[39m\u001b[38;5;124mhttps://2captcha.com/demo/cloudflare-turnstile-challenge\u001b[39m\u001b[38;5;124m\"\u001b[39m)\n\u001b[0;32m----> 7\u001b[0m \u001b[43mtime\u001b[49m\u001b[38;5;241;43m.\u001b[39;49m\u001b[43msleep\u001b[49m\u001b[43m(\u001b[49m\u001b[38;5;241;43m60\u001b[39;49m\u001b[43m)\u001b[49m\n",
      "\u001b[0;31mKeyboardInterrupt\u001b[0m: "
     ]
    }
   ],
   "source": [
    "from selenium import webdriver\n",
    "import time\n",
    "\n",
    "browser = webdriver.Chrome()\n",
    "browser.get(\"https://2captcha.com/demo/cloudflare-turnstile-challenge\")\n",
    "\n",
    "time.sleep(60)"
   ]
  },
  {
   "cell_type": "code",
   "execution_count": 18,
   "metadata": {},
   "outputs": [
    {
     "ename": "KeyboardInterrupt",
     "evalue": "",
     "output_type": "error",
     "traceback": [
      "\u001b[0;31m---------------------------------------------------------------------------\u001b[0m",
      "\u001b[0;31mKeyboardInterrupt\u001b[0m                         Traceback (most recent call last)",
      "Cell \u001b[0;32mIn[18], line 6\u001b[0m\n\u001b[1;32m      4\u001b[0m url \u001b[38;5;241m=\u001b[39m \u001b[38;5;124m\"\u001b[39m\u001b[38;5;124mhttps://2captcha.com/demo/cloudflare-turnstile-challenge\u001b[39m\u001b[38;5;124m\"\u001b[39m\n\u001b[1;32m      5\u001b[0m driver\u001b[38;5;241m.\u001b[39muc_open_with_reconnect(url, \u001b[38;5;241m4\u001b[39m)\n\u001b[0;32m----> 6\u001b[0m \u001b[43mdriver\u001b[49m\u001b[38;5;241;43m.\u001b[39;49m\u001b[43muc_gui_click_captcha\u001b[49m\u001b[43m(\u001b[49m\u001b[43m)\u001b[49m\n\u001b[1;32m      7\u001b[0m \u001b[38;5;66;03m# driver.quit()\u001b[39;00m\n",
      "File \u001b[0;32m~/miniconda3/lib/python3.12/site-packages/seleniumbase/core/browser_launcher.py:5335\u001b[0m, in \u001b[0;36mget_local_driver.<locals>.<lambda>\u001b[0;34m(*args, **kwargs)\u001b[0m\n\u001b[1;32m   5324\u001b[0m driver\u001b[38;5;241m.\u001b[39muc_gui_write \u001b[38;5;241m=\u001b[39m (\n\u001b[1;32m   5325\u001b[0m     \u001b[38;5;28;01mlambda\u001b[39;00m \u001b[38;5;241m*\u001b[39margs, \u001b[38;5;241m*\u001b[39m\u001b[38;5;241m*\u001b[39mkwargs: uc_gui_write(\n\u001b[1;32m   5326\u001b[0m         driver, \u001b[38;5;241m*\u001b[39margs, \u001b[38;5;241m*\u001b[39m\u001b[38;5;241m*\u001b[39mkwargs\n\u001b[1;32m   5327\u001b[0m     )\n\u001b[1;32m   5328\u001b[0m )\n\u001b[1;32m   5329\u001b[0m driver\u001b[38;5;241m.\u001b[39muc_gui_click_x_y \u001b[38;5;241m=\u001b[39m (\n\u001b[1;32m   5330\u001b[0m     \u001b[38;5;28;01mlambda\u001b[39;00m \u001b[38;5;241m*\u001b[39margs, \u001b[38;5;241m*\u001b[39m\u001b[38;5;241m*\u001b[39mkwargs: uc_gui_click_x_y(\n\u001b[1;32m   5331\u001b[0m         driver, \u001b[38;5;241m*\u001b[39margs, \u001b[38;5;241m*\u001b[39m\u001b[38;5;241m*\u001b[39mkwargs\n\u001b[1;32m   5332\u001b[0m     )\n\u001b[1;32m   5333\u001b[0m )\n\u001b[1;32m   5334\u001b[0m driver\u001b[38;5;241m.\u001b[39muc_gui_click_captcha \u001b[38;5;241m=\u001b[39m (\n\u001b[0;32m-> 5335\u001b[0m     \u001b[38;5;28;01mlambda\u001b[39;00m \u001b[38;5;241m*\u001b[39margs, \u001b[38;5;241m*\u001b[39m\u001b[38;5;241m*\u001b[39mkwargs: \u001b[43muc_gui_click_captcha\u001b[49m\u001b[43m(\u001b[49m\n\u001b[1;32m   5336\u001b[0m \u001b[43m        \u001b[49m\u001b[43mdriver\u001b[49m\u001b[43m,\u001b[49m\u001b[43m \u001b[49m\u001b[38;5;241;43m*\u001b[39;49m\u001b[43margs\u001b[49m\u001b[43m,\u001b[49m\u001b[43m \u001b[49m\u001b[38;5;241;43m*\u001b[39;49m\u001b[38;5;241;43m*\u001b[39;49m\u001b[43mkwargs\u001b[49m\n\u001b[1;32m   5337\u001b[0m \u001b[43m    \u001b[49m\u001b[43m)\u001b[49m\n\u001b[1;32m   5338\u001b[0m )\n\u001b[1;32m   5339\u001b[0m driver\u001b[38;5;241m.\u001b[39muc_gui_click_cf \u001b[38;5;241m=\u001b[39m (\n\u001b[1;32m   5340\u001b[0m     \u001b[38;5;28;01mlambda\u001b[39;00m \u001b[38;5;241m*\u001b[39margs, \u001b[38;5;241m*\u001b[39m\u001b[38;5;241m*\u001b[39mkwargs: uc_gui_click_cf(\n\u001b[1;32m   5341\u001b[0m         driver, \u001b[38;5;241m*\u001b[39margs, \u001b[38;5;241m*\u001b[39m\u001b[38;5;241m*\u001b[39mkwargs\n\u001b[1;32m   5342\u001b[0m     )\n\u001b[1;32m   5343\u001b[0m )\n\u001b[1;32m   5344\u001b[0m driver\u001b[38;5;241m.\u001b[39muc_gui_click_rc \u001b[38;5;241m=\u001b[39m (\n\u001b[1;32m   5345\u001b[0m     \u001b[38;5;28;01mlambda\u001b[39;00m \u001b[38;5;241m*\u001b[39margs, \u001b[38;5;241m*\u001b[39m\u001b[38;5;241m*\u001b[39mkwargs: uc_gui_click_rc(\n\u001b[1;32m   5346\u001b[0m         driver, \u001b[38;5;241m*\u001b[39margs, \u001b[38;5;241m*\u001b[39m\u001b[38;5;241m*\u001b[39mkwargs\n\u001b[1;32m   5347\u001b[0m     )\n\u001b[1;32m   5348\u001b[0m )\n",
      "File \u001b[0;32m~/miniconda3/lib/python3.12/site-packages/seleniumbase/core/browser_launcher.py:1409\u001b[0m, in \u001b[0;36muc_gui_click_captcha\u001b[0;34m(driver, frame, retry, blind)\u001b[0m\n\u001b[1;32m   1408\u001b[0m \u001b[38;5;28;01mdef\u001b[39;00m\u001b[38;5;250m \u001b[39m\u001b[38;5;21muc_gui_click_captcha\u001b[39m(driver, frame\u001b[38;5;241m=\u001b[39m\u001b[38;5;124m\"\u001b[39m\u001b[38;5;124miframe\u001b[39m\u001b[38;5;124m\"\u001b[39m, retry\u001b[38;5;241m=\u001b[39m\u001b[38;5;28;01mFalse\u001b[39;00m, blind\u001b[38;5;241m=\u001b[39m\u001b[38;5;28;01mFalse\u001b[39;00m):\n\u001b[0;32m-> 1409\u001b[0m     \u001b[43m_uc_gui_click_captcha\u001b[49m\u001b[43m(\u001b[49m\n\u001b[1;32m   1410\u001b[0m \u001b[43m        \u001b[49m\u001b[43mdriver\u001b[49m\u001b[43m,\u001b[49m\n\u001b[1;32m   1411\u001b[0m \u001b[43m        \u001b[49m\u001b[43mframe\u001b[49m\u001b[38;5;241;43m=\u001b[39;49m\u001b[43mframe\u001b[49m\u001b[43m,\u001b[49m\n\u001b[1;32m   1412\u001b[0m \u001b[43m        \u001b[49m\u001b[43mretry\u001b[49m\u001b[38;5;241;43m=\u001b[39;49m\u001b[43mretry\u001b[49m\u001b[43m,\u001b[49m\n\u001b[1;32m   1413\u001b[0m \u001b[43m        \u001b[49m\u001b[43mblind\u001b[49m\u001b[38;5;241;43m=\u001b[39;49m\u001b[43mblind\u001b[49m\u001b[43m,\u001b[49m\n\u001b[1;32m   1414\u001b[0m \u001b[43m        \u001b[49m\u001b[43mctype\u001b[49m\u001b[38;5;241;43m=\u001b[39;49m\u001b[38;5;28;43;01mNone\u001b[39;49;00m\u001b[43m,\u001b[49m\n\u001b[1;32m   1415\u001b[0m \u001b[43m    \u001b[49m\u001b[43m)\u001b[49m\n",
      "File \u001b[0;32m~/miniconda3/lib/python3.12/site-packages/seleniumbase/core/browser_launcher.py:1356\u001b[0m, in \u001b[0;36m_uc_gui_click_captcha\u001b[0;34m(driver, frame, retry, blind, ctype)\u001b[0m\n\u001b[1;32m   1354\u001b[0m \u001b[38;5;28;01mif\u001b[39;00m \u001b[38;5;129;01mnot\u001b[39;00m x \u001b[38;5;129;01mor\u001b[39;00m \u001b[38;5;129;01mnot\u001b[39;00m y:\n\u001b[1;32m   1355\u001b[0m     reconnect_time \u001b[38;5;241m=\u001b[39m \u001b[38;5;241m1\u001b[39m  \u001b[38;5;66;03m# Make it quick (it already failed)\u001b[39;00m\n\u001b[0;32m-> 1356\u001b[0m \u001b[43mdriver\u001b[49m\u001b[38;5;241;43m.\u001b[39;49m\u001b[43mreconnect\u001b[49m\u001b[43m(\u001b[49m\u001b[43mreconnect_time\u001b[49m\u001b[43m)\u001b[49m\n\u001b[1;32m   1357\u001b[0m caught \u001b[38;5;241m=\u001b[39m \u001b[38;5;28;01mFalse\u001b[39;00m\n\u001b[1;32m   1358\u001b[0m \u001b[38;5;28;01mif\u001b[39;00m (\n\u001b[1;32m   1359\u001b[0m     driver\u001b[38;5;241m.\u001b[39mis_element_present(\u001b[38;5;124m\"\u001b[39m\u001b[38;5;124m.footer .clearfix .ray-id\u001b[39m\u001b[38;5;124m\"\u001b[39m)\n\u001b[1;32m   1360\u001b[0m     \u001b[38;5;129;01mand\u001b[39;00m \u001b[38;5;129;01mnot\u001b[39;00m driver\u001b[38;5;241m.\u001b[39mis_element_visible(\u001b[38;5;124m\"\u001b[39m\u001b[38;5;124m#challenge-success-text\u001b[39m\u001b[38;5;124m\"\u001b[39m)\n\u001b[1;32m   1361\u001b[0m ):\n",
      "File \u001b[0;32m~/miniconda3/lib/python3.12/site-packages/seleniumbase/undetected/__init__.py:435\u001b[0m, in \u001b[0;36mChrome.reconnect\u001b[0;34m(self, timeout)\u001b[0m\n\u001b[1;32m    433\u001b[0m         \u001b[38;5;28;01mpass\u001b[39;00m  \u001b[38;5;66;03m# Type \"c\" & press ENTER!\u001b[39;00m\n\u001b[1;32m    434\u001b[0m \u001b[38;5;28;01melse\u001b[39;00m:\n\u001b[0;32m--> 435\u001b[0m     \u001b[43mtime\u001b[49m\u001b[38;5;241;43m.\u001b[39;49m\u001b[43msleep\u001b[49m\u001b[43m(\u001b[49m\u001b[43mtimeout\u001b[49m\u001b[43m)\u001b[49m\n\u001b[1;32m    436\u001b[0m \u001b[38;5;28;01mwith\u001b[39;00m suppress(\u001b[38;5;167;01mException\u001b[39;00m):\n\u001b[1;32m    437\u001b[0m     \u001b[38;5;28mself\u001b[39m\u001b[38;5;241m.\u001b[39mservice\u001b[38;5;241m.\u001b[39mstart()\n",
      "\u001b[0;31mKeyboardInterrupt\u001b[0m: "
     ]
    }
   ],
   "source": [
    "from seleniumbase import Driver\n",
    "\n",
    "driver = Driver(uc=True)\n",
    "url = \"https://2captcha.com/demo/cloudflare-turnstile-challenge\"\n",
    "driver.uc_open_with_reconnect(url, 4)\n",
    "driver.uc_gui_click_captcha()\n",
    "driver.quit()"
   ]
  },
  {
   "cell_type": "code",
   "execution_count": null,
   "metadata": {},
   "outputs": [],
   "source": [
    "import time\n",
    "import os\n",
    "from selenium import webdriver\n",
    "from selenium.webdriver.common.by import By\n",
    "\n",
    "# Input case URL manually\n",
    "case_url = \"https://indiankanoon.org/doc/173448784/\"  # Change this for each case\n",
    "\n",
    "# Extract case ID from URL (last n characters before \"/\")\n",
    "case_id = case_url.rstrip(\"/\").split(\"/\")[-1]  # \"173448784\"\n",
    "filename = f\"{case_id}.txt\"\n",
    "\n",
    "# Set up WebDriver\n",
    "driver = webdriver.Chrome()\n",
    "driver.get(case_url)\n",
    "\n",
    "# Wait for page to load\n",
    "time.sleep(3)\n",
    "\n",
    "# Extract case details (Modify selectors based on actual website)\n",
    "try:\n",
    "    title = driver.find_element(By.TAG_NAME, \"h1\").text  # Case title\n",
    "    date = driver.find_element(By.CLASS_NAME, \"docdate\").text  # Case date\n",
    "    case_number = driver.find_element(By.CLASS_NAME, \"casenumber\").text  # Case number\n",
    "    content = driver.find_element(By.CLASS_NAME, \"judgments\").text  # Full case text\n",
    "\n",
    "    # Save to a text file\n",
    "    with open(filename, \"w\", encoding=\"utf-8\") as file:\n",
    "        file.write(f\"Title: {title}\\n\")\n",
    "        file.write(f\"Date: {date}\\n\")\n",
    "        file.write(f\"Case Number: {case_number}\\n\")\n",
    "        file.write(\"\\n--- Case Content ---\\n\")\n",
    "        file.write(content)\n",
    "\n",
    "    print(f\"✅ Data saved to {filename}\")\n",
    "\n",
    "except Exception as e:\n",
    "    print(f\"❌ Error extracting data: {e}\")\n",
    "\n",
    "# Close the browser\n",
    "driver.quit()"
   ]
  }
 ],
 "metadata": {
  "kernelspec": {
   "display_name": "base",
   "language": "python",
   "name": "python3"
  },
  "language_info": {
   "codemirror_mode": {
    "name": "ipython",
    "version": 3
   },
   "file_extension": ".py",
   "mimetype": "text/x-python",
   "name": "python",
   "nbconvert_exporter": "python",
   "pygments_lexer": "ipython3",
   "version": "3.12.2"
  }
 },
 "nbformat": 4,
 "nbformat_minor": 2
}
